{
 "cells": [
  {
   "cell_type": "markdown",
   "metadata": {
    "slideshow": {
     "slide_type": "slide"
    }
   },
   "source": [
    "# Basics of Python"
   ]
  },
  {
   "cell_type": "markdown",
   "metadata": {
    "slideshow": {
     "slide_type": "slide"
    }
   },
   "source": [
    "You would need python 3.7 or above to make use of FMS code.\n",
    "But before we go into the code all of us should have a basic understanding of the ZMQ message interface.\n",
    "\n",
    "We will cover \n",
    "    1. basics of python < no classes or inheritance but just functions and lambdas >\n",
    "        - functions\n",
    "            -lambda functions (lambda x: 'do something')\n",
    "            -higher order functions.\n",
    "            -decorators and closure\n",
    "            -multi and caches\n",
    "        - list comprehensions <greedy as well as lazy>\n",
    "    2. basics of zmq messaging system.\n",
    "    3. why async? and generator\n",
    "    4. When to event loop , to thread and to go for a new process.\n",
    "    5. logging and monitoring.\n",
    "What else\n",
    "    1. Service discovery.\n",
    "    2. Auto load balancing.\n",
    "    3. Authentication\n",
    "    "
   ]
  },
  {
   "cell_type": "code",
   "execution_count": 100,
   "metadata": {},
   "outputs": [],
   "source": [
    "def somefun(x):\n",
    "    print(\"Saving to xls\")\n",
    "    print (x)\n",
    "\n",
    "def someother(x):\n",
    "    print(\"saving to pdf {x}\")"
   ]
  },
  {
   "cell_type": "code",
   "execution_count": 101,
   "metadata": {},
   "outputs": [
    {
     "name": "stdout",
     "output_type": "stream",
     "text": [
      "saving to pdf {x}\n"
     ]
    }
   ],
   "source": [
    "myfun = somefun\n",
    "myfun = someother\n",
    "myfun(10*2)"
   ]
  },
  {
   "cell_type": "code",
   "execution_count": 106,
   "metadata": {},
   "outputs": [
    {
     "data": {
      "text/plain": [
       "' this is lambda some str'"
      ]
     },
     "execution_count": 106,
     "metadata": {},
     "output_type": "execute_result"
    }
   ],
   "source": [
    "{\"SaveTo\":lambda x:f\" this is lambda {x}\" , \"b\": \"I AM NO FUNCTION\"}.get(\"SaveTo\") (\"some str\")\n"
   ]
  },
  {
   "cell_type": "markdown",
   "metadata": {},
   "source": [
    "## Higher order functions."
   ]
  },
  {
   "cell_type": "markdown",
   "metadata": {},
   "source": [
    "Functions are first class citizens in python. \n",
    "What does this mean ? \n",
    "\n",
    "Means that you can assign , manipulate and pass on the functions as if passing variables.\n"
   ]
  },
  {
   "cell_type": "code",
   "execution_count": 120,
   "metadata": {
    "slideshow": {
     "slide_type": "slide"
    }
   },
   "outputs": [],
   "source": [
    "\"\"\"Sample Code to define function\"\"\"\n",
    "def pow (x,p):\n",
    "    if p <= 1:\n",
    "        return x\n",
    "    else:\n",
    "        return x * (pow(x,p-1))"
   ]
  },
  {
   "cell_type": "markdown",
   "metadata": {
    "slideshow": {
     "slide_type": "slide"
    }
   },
   "source": [
    "Now we can call this function\n"
   ]
  },
  {
   "cell_type": "code",
   "execution_count": 110,
   "metadata": {
    "slideshow": {
     "slide_type": "slide"
    }
   },
   "outputs": [
    {
     "data": {
      "text/plain": [
       "27"
      ]
     },
     "execution_count": 110,
     "metadata": {},
     "output_type": "execute_result"
    }
   ],
   "source": [
    "pow(3,3)"
   ]
  },
  {
   "cell_type": "markdown",
   "metadata": {
    "slideshow": {
     "slide_type": "slide"
    }
   },
   "source": [
    "I can use this function to define specifics. Functions in python can be passed around as variables.\n",
    "For example look at the following code.\n"
   ]
  },
  {
   "cell_type": "code",
   "execution_count": 121,
   "metadata": {
    "slideshow": {
     "slide_type": "slide"
    }
   },
   "outputs": [],
   "source": [
    "square_it = lambda x: pow(x,2)"
   ]
  },
  {
   "cell_type": "markdown",
   "metadata": {},
   "source": [
    "What is purly functional.... "
   ]
  },
  {
   "cell_type": "code",
   "execution_count": 112,
   "metadata": {
    "slideshow": {
     "slide_type": "slide"
    }
   },
   "outputs": [
    {
     "data": {
      "text/plain": [
       "16"
      ]
     },
     "execution_count": 112,
     "metadata": {},
     "output_type": "execute_result"
    }
   ],
   "source": [
    "square_it(-4)"
   ]
  },
  {
   "cell_type": "markdown",
   "metadata": {
    "slideshow": {
     "slide_type": "slide"
    }
   },
   "source": [
    "I would like to validate the number before i can submit it to pow function."
   ]
  },
  {
   "cell_type": "code",
   "execution_count": 113,
   "metadata": {},
   "outputs": [],
   "source": [
    "def pos(fun):\n",
    "    def _inner(x,y):\n",
    "        if y>= 0:\n",
    "            va = fun(x,y)\n",
    "            return f\" The Output is {va}\"\n",
    "        else:\n",
    "            print(\"Cant use this function with negetive powers!\")\n",
    "    return _inner"
   ]
  },
  {
   "cell_type": "code",
   "execution_count": 116,
   "metadata": {},
   "outputs": [
    {
     "name": "stdout",
     "output_type": "stream",
     "text": [
      " The Output is  The Output is  The Output is  The Output is  The Output is  The Output is 2 The Output is  The Output is  The Output is 2\n"
     ]
    }
   ],
   "source": [
    "pow = pos (pow) # @ for syntatic sugar ...  wrappers around existing objects... \n",
    "\n",
    "print(pow(2,2))"
   ]
  },
  {
   "cell_type": "code",
   "execution_count": 117,
   "metadata": {},
   "outputs": [],
   "source": [
    "@pos\n",
    "def pow(x,p):\n",
    "    if p <= 1:\n",
    "        return x\n",
    "    else:\n",
    "        return x * (pow(x,p-1))"
   ]
  },
  {
   "cell_type": "code",
   "execution_count": 90,
   "metadata": {},
   "outputs": [
    {
     "data": {
      "text/plain": [
       "' The Output is  The Output is  The Output is  The Output is 2 The Output is 2 The Output is  The Output is 2 The Output is 2 The Output is  The Output is  The Output is 2 The Output is 2 The Output is  The Output is 2 The Output is 2'"
      ]
     },
     "execution_count": 90,
     "metadata": {},
     "output_type": "execute_result"
    }
   ],
   "source": [
    "pow(2,4)"
   ]
  },
  {
   "cell_type": "markdown",
   "metadata": {},
   "source": [
    "### fog pattern"
   ]
  },
  {
   "cell_type": "markdown",
   "metadata": {},
   "source": [
    "f(g(x)) pattern and its iterations can be easily done now."
   ]
  },
  {
   "cell_type": "code",
   "execution_count": 25,
   "metadata": {},
   "outputs": [],
   "source": [
    "# composing two or more functions ... \n",
    "def compose(*funs):\n",
    "    # f of g of h of x where x is the data .\n",
    "    def _inner(data):\n",
    "        result = data\n",
    "        for f in reversed(funs):\n",
    "            result = f(result)\n",
    "        return result\n",
    "    return _inner\n",
    "            "
   ]
  },
  {
   "cell_type": "code",
   "execution_count": 135,
   "metadata": {},
   "outputs": [],
   "source": [
    "def inc (x):\n",
    "    return x+1\n",
    "\n",
    "myfun = compose(lambda x : f\"THE ANSWER IS {x}\",square_it,inc)\n",
    "newfun  = compose (myfun,inc)"
   ]
  },
  {
   "cell_type": "code",
   "execution_count": 136,
   "metadata": {},
   "outputs": [
    {
     "data": {
      "text/plain": [
       "['THE ANSWER IS 4',\n",
       " 'THE ANSWER IS 9',\n",
       " 'THE ANSWER IS 16',\n",
       " 'THE ANSWER IS 25',\n",
       " 'THE ANSWER IS 36']"
      ]
     },
     "execution_count": 136,
     "metadata": {},
     "output_type": "execute_result"
    }
   ],
   "source": [
    "[newfun(i) for i in range(5)]"
   ]
  },
  {
   "cell_type": "code",
   "execution_count": 138,
   "metadata": {},
   "outputs": [],
   "source": [
    "filterEven  = lambda x : x if x%2==0 else 0\n"
   ]
  },
  {
   "cell_type": "code",
   "execution_count": 143,
   "metadata": {},
   "outputs": [
    {
     "data": {
      "text/plain": [
       "[2, 4, 6, 8]"
      ]
     },
     "execution_count": 143,
     "metadata": {},
     "output_type": "execute_result"
    }
   ],
   "source": [
    "list(filter(filterEven,range(10)))"
   ]
  },
  {
   "cell_type": "code",
   "execution_count": 169,
   "metadata": {},
   "outputs": [],
   "source": [
    "genlist = (x for x in range(20000000000) if x < 17)# list comprehension and lazy evaluation."
   ]
  },
  {
   "cell_type": "code",
   "execution_count": 165,
   "metadata": {},
   "outputs": [],
   "source": []
  },
  {
   "cell_type": "code",
   "execution_count": 194,
   "metadata": {},
   "outputs": [],
   "source": [
    "# yield. keyword... \n",
    "def myiter (x):\n",
    "    while True:\n",
    "        x = x+1\n",
    "        yield x\n",
    "        print(\"This is after Yield\")\n",
    "        yield x*x"
   ]
  },
  {
   "cell_type": "code",
   "execution_count": 202,
   "metadata": {},
   "outputs": [
    {
     "name": "stdout",
     "output_type": "stream",
     "text": [
      "i -> 1\n",
      "This is after Yield\n",
      "i -> 1\n",
      "i -> 2\n",
      "This is after Yield\n",
      "i -> 4\n",
      "i -> 3\n",
      "This is after Yield\n",
      "i -> 9\n",
      "i -> 4\n",
      "This is after Yield\n",
      "i -> 16\n",
      "i -> 5\n",
      "This is after Yield\n",
      "i -> 25\n",
      "i -> 6\n",
      "This is after Yield\n",
      "i -> 36\n",
      "i -> 7\n",
      "This is after Yield\n",
      "i -> 49\n",
      "i -> 8\n",
      "This is after Yield\n",
      "i -> 64\n",
      "i -> 9\n",
      "This is after Yield\n",
      "i -> 81\n",
      "i -> 10\n",
      "This is after Yield\n",
      "i -> 100\n",
      "i -> 11\n",
      "This is after Yield\n"
     ]
    }
   ],
   "source": []
  },
  {
   "cell_type": "code",
   "execution_count": 200,
   "metadata": {},
   "outputs": [
    {
     "data": {
      "text/plain": [
       "3"
      ]
     },
     "execution_count": 200,
     "metadata": {},
     "output_type": "execute_result"
    }
   ],
   "source": [
    "next(f)"
   ]
  },
  {
   "cell_type": "code",
   "execution_count": null,
   "metadata": {},
   "outputs": [],
   "source": []
  },
  {
   "cell_type": "code",
   "execution_count": null,
   "metadata": {},
   "outputs": [],
   "source": []
  },
  {
   "attachments": {
    "image.png": {
     "image/png": "[encoded data removed]"
    }
   },
   "cell_type": "markdown",
   "metadata": {},
   "source": [
    "![image.png](attachment:image.png)"
   ]
  },
  {
   "cell_type": "code",
   "execution_count": 221,
   "metadata": {},
   "outputs": [],
   "source": [
    "def myfirstcolsure (x):\n",
    "    y = 5\n",
    "    def _inner(data):\n",
    "        nonlocal y\n",
    "        y = y + x\n",
    "        print(x , y , data)\n",
    "    return _inner"
   ]
  },
  {
   "cell_type": "code",
   "execution_count": 248,
   "metadata": {},
   "outputs": [],
   "source": [
    "\n",
    "def myclass (z):\n",
    "    k = 15\n",
    "    def myfirstcolsure (x):\n",
    "        y = 5\n",
    "        def _inner(data):\n",
    "            nonlocal y,z,k,x\n",
    "            z = z + 1\n",
    "            k = k + 10\n",
    "            y = y + x\n",
    "            x = x + 30\n",
    "            print(x , y ,k,z ,data)\n",
    "        return _inner\n",
    "    return myfirstcolsure"
   ]
  },
  {
   "cell_type": "code",
   "execution_count": 249,
   "metadata": {},
   "outputs": [],
   "source": [
    "\n",
    "f1 = myclass (100)"
   ]
  },
  {
   "cell_type": "code",
   "execution_count": 250,
   "metadata": {},
   "outputs": [],
   "source": [
    "f2 = f1(22)\n",
    "f3 = f1(44)"
   ]
  },
  {
   "cell_type": "code",
   "execution_count": 251,
   "metadata": {},
   "outputs": [
    {
     "name": "stdout",
     "output_type": "stream",
     "text": [
      "52 27 25 101 1\n"
     ]
    }
   ],
   "source": [
    "f2(1)"
   ]
  },
  {
   "cell_type": "code",
   "execution_count": 252,
   "metadata": {},
   "outputs": [
    {
     "name": "stdout",
     "output_type": "stream",
     "text": [
      "74 49 35 102 1\n"
     ]
    }
   ],
   "source": [
    "f3(1)"
   ]
  },
  {
   "cell_type": "markdown",
   "metadata": {},
   "source": [
    "More deep dive into Higher order functions."
   ]
  },
  {
   "cell_type": "code",
   "execution_count": 8,
   "metadata": {},
   "outputs": [],
   "source": [
    "def mke_counter(i):\n",
    "    _val = i\n",
    "    def _inner():\n",
    "        nonlocal _val\n",
    "        _val = _val + 1\n",
    "        return _val\n",
    "    return _inner"
   ]
  },
  {
   "cell_type": "code",
   "execution_count": 9,
   "metadata": {},
   "outputs": [],
   "source": [
    "mycount = mke_counter(1)"
   ]
  },
  {
   "cell_type": "code",
   "execution_count": 12,
   "metadata": {},
   "outputs": [
    {
     "data": {
      "text/plain": [
       "4"
      ]
     },
     "execution_count": 12,
     "metadata": {},
     "output_type": "execute_result"
    }
   ],
   "source": [
    "mycount()"
   ]
  },
  {
   "cell_type": "code",
   "execution_count": 15,
   "metadata": {},
   "outputs": [],
   "source": [
    "mycfcount = mke_counter(0)"
   ]
  },
  {
   "cell_type": "code",
   "execution_count": 18,
   "metadata": {},
   "outputs": [
    {
     "data": {
      "text/plain": [
       "3"
      ]
     },
     "execution_count": 18,
     "metadata": {},
     "output_type": "execute_result"
    }
   ],
   "source": [
    "mycfcount()"
   ]
  },
  {
   "cell_type": "code",
   "execution_count": 19,
   "metadata": {},
   "outputs": [],
   "source": [
    "# get f(init) , next f(f(init) , f(f(f(init))))\n",
    "def iterate (f,ini):\n",
    "    v = ini\n",
    "    while True:\n",
    "        v = f(v)\n",
    "        yield v"
   ]
  },
  {
   "cell_type": "code",
   "execution_count": 20,
   "metadata": {},
   "outputs": [],
   "source": [
    "def inc(x):\n",
    "    return x+1"
   ]
  },
  {
   "cell_type": "code",
   "execution_count": 21,
   "metadata": {},
   "outputs": [],
   "source": [
    "myvallist = iterate(inc,0)"
   ]
  },
  {
   "cell_type": "code",
   "execution_count": 22,
   "metadata": {},
   "outputs": [
    {
     "data": {
      "text/plain": [
       "<generator object iterate at 0x103711390>"
      ]
     },
     "execution_count": 22,
     "metadata": {},
     "output_type": "execute_result"
    }
   ],
   "source": [
    "myvallist"
   ]
  },
  {
   "cell_type": "code",
   "execution_count": 23,
   "metadata": {},
   "outputs": [
    {
     "data": {
      "text/plain": [
       "1"
      ]
     },
     "execution_count": 23,
     "metadata": {},
     "output_type": "execute_result"
    }
   ],
   "source": [
    "next(myvallist)"
   ]
  },
  {
   "cell_type": "code",
   "execution_count": 24,
   "metadata": {},
   "outputs": [
    {
     "data": {
      "text/plain": [
       "2"
      ]
     },
     "execution_count": 24,
     "metadata": {},
     "output_type": "execute_result"
    }
   ],
   "source": [
    "next(myvallist)"
   ]
  },
  {
   "cell_type": "code",
   "execution_count": 26,
   "metadata": {},
   "outputs": [],
   "source": [
    "def sq(x):\n",
    "    return x*x\n",
    "\n",
    "f = compose(sq,inc)"
   ]
  },
  {
   "cell_type": "code",
   "execution_count": 27,
   "metadata": {},
   "outputs": [],
   "source": [
    "mynewlist = iterate(f,1)"
   ]
  },
  {
   "cell_type": "code",
   "execution_count": 30,
   "metadata": {},
   "outputs": [
    {
     "data": {
      "text/plain": [
       "676"
      ]
     },
     "execution_count": 30,
     "metadata": {},
     "output_type": "execute_result"
    }
   ],
   "source": [
    "next(mynewlist)"
   ]
  },
  {
   "cell_type": "code",
   "execution_count": 35,
   "metadata": {},
   "outputs": [],
   "source": [
    "# fibonacci series ... \n",
    "# [ 1 1 2 3 5 8 13 21 ... ]\n",
    "def f (l): # l is a list\n",
    "    x = l[1]\n",
    "    y = x + l[0]\n",
    "    return [x,y]"
   ]
  },
  {
   "cell_type": "code",
   "execution_count": 46,
   "metadata": {},
   "outputs": [],
   "source": [
    "myfib = iterate(f,[1,1])"
   ]
  },
  {
   "cell_type": "code",
   "execution_count": 47,
   "metadata": {},
   "outputs": [
    {
     "data": {
      "text/plain": [
       "[1, 2, 3, 5, 8, 13, 21, 34, 55, 89]"
      ]
     },
     "execution_count": 47,
     "metadata": {},
     "output_type": "execute_result"
    }
   ],
   "source": [
    "[next(myfib)[0] for i in range(10)]"
   ]
  },
  {
   "cell_type": "code",
   "execution_count": 50,
   "metadata": {},
   "outputs": [
    {
     "data": {
      "text/plain": [
       "['h', 'y', 'a', 'm']"
      ]
     },
     "execution_count": 50,
     "metadata": {},
     "output_type": "execute_result"
    }
   ],
   "source": [
    "x = list(\"shyam\")\n",
    "x[1:]"
   ]
  },
  {
   "cell_type": "code",
   "execution_count": 63,
   "metadata": {},
   "outputs": [],
   "source": [
    "# obj.fun... get values ... \n",
    "# list.entries() , list.first(),list.reverse()\n",
    "# entries(list) , first(list),reverse(list)\n",
    "\n",
    "# scanner - > take a trigger value , and give a fun which finds the trig in the data given.\n",
    "# for ex... trig = \"mail\"  my data is \" you got mailman at the door \", yes found ...\n",
    "\n",
    "def scanner (trig_str):\n",
    "    trig = list(trig_str)\n",
    "    curr = trig\n",
    "    \n",
    "    def _helper (data):\n",
    "        d_str = list(data)\n",
    "        nonlocal curr\n",
    "        for d in d_str:\n",
    "            if len(curr):\n",
    "                if curr[0] == d:\n",
    "                    curr = curr[1:]\n",
    "                    if len(curr) == 0:\n",
    "                        curr = trig\n",
    "                        return f\"{trig_str} found !\"\n",
    "                else:\n",
    "                    curr = trig\n",
    "    return _helper"
   ]
  },
  {
   "cell_type": "code",
   "execution_count": 64,
   "metadata": {},
   "outputs": [],
   "source": [
    "scan_bomb = scanner(\"bomb\")"
   ]
  },
  {
   "cell_type": "code",
   "execution_count": 69,
   "metadata": {},
   "outputs": [],
   "source": [
    "scan_bomb(\"you have all this mumbo\")\n"
   ]
  },
  {
   "cell_type": "code",
   "execution_count": 70,
   "metadata": {},
   "outputs": [
    {
     "data": {
      "text/plain": [
       "'bomb found !'"
      ]
     },
     "execution_count": 70,
     "metadata": {},
     "output_type": "execute_result"
    }
   ],
   "source": [
    "scan_bomb(\"mbo jumbo \")"
   ]
  },
  {
   "cell_type": "code",
   "execution_count": 81,
   "metadata": {},
   "outputs": [],
   "source": [
    "list_to_scan = ['infy','infosys','edgeverve','bomb']\n",
    "list_scanner = [scanner(data) for data in list_to_scan]\n",
    "data = \"infy as a company is very vigilent and takes b\"\n",
    "data = \" scare very seriously with home made bom\"\n",
    "data = \"bombay is one DC \"\n",
    "scanned_output = [f(data) for f in list_scanner]"
   ]
  },
  {
   "cell_type": "code",
   "execution_count": 82,
   "metadata": {},
   "outputs": [
    {
     "data": {
      "text/plain": [
       "[None, None, None, 'bomb found !']"
      ]
     },
     "execution_count": 82,
     "metadata": {},
     "output_type": "execute_result"
    }
   ],
   "source": [
    "\n",
    "scanned_output"
   ]
  },
  {
   "cell_type": "code",
   "execution_count": null,
   "metadata": {},
   "outputs": [],
   "source": [
    "# data driven coding... "
   ]
  }
 ],
 "metadata": {
  "celltoolbar": "Slideshow",
  "kernelspec": {
   "display_name": "Python 3",
   "language": "python",
   "name": "python3"
  },
  "language_info": {
   "codemirror_mode": {
    "name": "ipython",
    "version": 3
   },
   "file_extension": ".py",
   "mimetype": "text/x-python",
   "name": "python",
   "nbconvert_exporter": "python",
   "pygments_lexer": "ipython3",
   "version": "3.7.3"
  }
 },
 "nbformat": 4,
 "nbformat_minor": 2
}
